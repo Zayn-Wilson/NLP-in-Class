{
 "cells": [
   {
    "cell_type": "markdown",
    "metadata": {},
    "source": [
     "# 结巴分词实践"
    ]
   },
   {
    "cell_type": "markdown",
    "metadata": {},
    "source": [
     "## 结巴分词的三种模式"
    ]
   },
   {
    "cell_type": "code",
    "execution_count": null,
    "metadata": {},
    "outputs": [],
    "source": [
     "# 在这里添加你的代码"
    ]
   }
 ],
 "metadata": {
  "kernelspec": {
   "display_name": "Python 3",
   "language": "python",
   "name": "python3"
  },
  "language_info": {
   "codemirror_mode": {
    "name": "ipython",
    "version": 3
   },
   "file_extension": ".py",
   "mimetype": "text/x-python",
   "name": "python",
   "nbconvert_exporter": "python",
   "pygments_lexer": "ipython3",
   "version": "3.x.x"
  }
 },
 "nbformat": 4,
 "nbformat_minor": 5
}