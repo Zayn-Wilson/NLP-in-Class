{
 "cells": [
  {
   "cell_type": "markdown",
   "id": "71ef8160-3447-492c-a17b-4cad1997090c",
   "metadata": {},
   "source": [
    "# 结巴分词实践"
   ]
  },
  {
   "cell_type": "markdown",
   "id": "5c35d6c7-7e00-47a7-8514-e3b0aeb611ba",
   "metadata": {},
   "source": [
    "## 结巴分词的三种模式"
   ]
  },
  {
   "cell_type": "code",
   "execution_count": 5,
   "id": "de642ffd-9f39-44ae-91da-b6ee2b1a7bee",
   "metadata": {},
   "outputs": [
    {
     "name": "stdout",
     "output_type": "stream",
     "text": [
      "Full Mode: 我/ 来到/ 北京/ 清华/ 清华大学/ 华大/ 大学\n"
     ]
    }
   ],
   "source": [
    "seg_list = jieba.cut(\"我来到北京清华大学\", cut_all=True)\n",
    "print(\"Full Mode: \" + \"/ \".join(seg_list))  # 全模式"
   ]
  },
  {
   "cell_type": "code",
   "execution_count": 6,
   "id": "6c4a94ea-b89e-431b-b961-2373dd9c058f",
   "metadata": {},
   "outputs": [
    {
     "name": "stdout",
     "output_type": "stream",
     "text": [
      "Default Mode: 我/ 来到/ 北京/ 清华大学\n"
     ]
    }
   ],
   "source": [
    "seg_list = jieba.cut(\"我来到北京清华大学\", cut_all=False)\n",
    "print(\"Default Mode: \" + \"/ \".join(seg_list))  # 精确模式"
   ]
  },
  {
   "cell_type": "code",
   "execution_count": 7,
   "id": "d7a82e79-5b03-4cdb-addc-562dd9d89bae",
   "metadata": {},
   "outputs": [
    {
     "name": "stdout",
     "output_type": "stream",
     "text": [
      "他, 来到, 了, 网易, 杭研, 大厦\n"
     ]
    }
   ],
   "source": [
    "seg_list = jieba.cut(\"他来到了网易杭研大厦\")  # 默认是精确模式\n",
    "print(\", \".join(seg_list))"
   ]
  },
  {
   "cell_type": "code",
   "execution_count": 8,
   "id": "07cedbfe-df87-4cee-9ef7-163251927b1b",
   "metadata": {},
   "outputs": [
    {
     "name": "stdout",
     "output_type": "stream",
     "text": [
      "小明, 硕士, 毕业, 于, 中国, 科学, 学院, 科学院, 中国科学院, 计算, 计算所, ，, 后, 在, 日本, 京都, 大学, 日本京都大学, 深造\n"
     ]
    }
   ],
   "source": [
    "seg_list = jieba.cut_for_search(\"小明硕士毕业于中国科学院计算所，后在日本京都大学深造\")  # 搜索引擎模式\n",
    "print(\", \".join(seg_list))"
   ]
  },
  {
   "cell_type": "code",
   "execution_count": 9,
   "id": "2f489259-c12b-4b71-ac2a-123aa30d0bae",
   "metadata": {},
   "outputs": [
    {
     "name": "stdout",
     "output_type": "stream",
     "text": [
      "Wiz/和/吴正超/是/好/朋友\n"
     ]
    }
   ],
   "source": [
    "import jieba\n",
    "\n",
    "# 加载自定义词典\n",
    "jieba.load_userdict(\"userdict.txt\")\n",
    "\n",
    "# 测试自定义词典\n",
    "sentence = \"Wiz和吴正超是好朋友\"\n",
    "seg_list = jieba.cut(sentence, cut_all=False)\n",
    "print(\"/\".join(seg_list))"
   ]
  },
  {
   "cell_type": "markdown",
   "id": "9e4b1dff-4a27-4aac-8ca7-60e1c0258dad",
   "metadata": {},
   "source": [
    "## 载入词典"
   ]
  },
  {
   "cell_type": "code",
   "execution_count": 10,
   "id": "a025ab3b-aa4b-42c6-be94-fec852031aec",
   "metadata": {},
   "outputs": [
    {
     "name": "stdout",
     "output_type": "stream",
     "text": [
      "吴正超/即将/是/自然语言/处理/方面/的/高手/。\n"
     ]
    }
   ],
   "source": [
    "import jieba\n",
    "\n",
    "# 加载自定义词典\n",
    "jieba.load_userdict(\"userdict.txt\")\n",
    "\n",
    "# 设置 HMM=False，对句子进行分词\n",
    "sentence = \"吴正超即将是自然语言处理方面的高手。\"\n",
    "seg_list = jieba.cut(sentence, HMM=False)\n",
    "\n",
    "# 输出分词结果\n",
    "print(\"/\".join(seg_list))"
   ]
  },
  {
   "cell_type": "markdown",
   "id": "7ffe3e8d-2410-4152-8197-786263d82dfb",
   "metadata": {},
   "source": [
    "## 关键词提取实践（TextRank）"
   ]
  },
  {
   "cell_type": "code",
   "execution_count": 12,
   "id": "543adac1-e8cc-4f3f-8d84-6ed1e5c5404a",
   "metadata": {},
   "outputs": [
    {
     "name": "stdout",
     "output_type": "stream",
     "text": [
      "大学: 1.0\n",
      "重点: 0.9786240082731242\n",
      "国家: 0.875747861419559\n",
      "高校: 0.679035243747539\n",
      "北京: 0.6685252150846404\n"
     ]
    }
   ],
   "source": [
    "import jieba.analyse\n",
    "\n",
    "# 输入句子\n",
    "sentence = \"燕山大学是河北省人民政府、教育部、工业和信息化部、国家国防科技工业局四方共建的全国重点大学，河北省重点支持的国家一流大学和世界一流学科建设高校，北京高科大学联盟成员。\"\n",
    "\n",
    "# 使用 TextRank 算法提取 top-5 关键词\n",
    "keywords = jieba.analyse.textrank(sentence, topK=5, withWeight=True, allowPOS=('n', 'ns', 'nr'))\n",
    "\n",
    "# 输出关键词及其权重\n",
    "for keyword, weight in keywords:\n",
    "    print(f\"{keyword}: {weight}\")"
   ]
  }
 ],
 "metadata": {
  "kernelspec": {
   "display_name": "Python 3 (ipykernel)",
   "language": "python",
   "name": "python3"
  },
  "language_info": {
   "codemirror_mode": {
    "name": "ipython",
    "version": 3
   },
   "file_extension": ".py",
   "mimetype": "text/x-python",
   "name": "python",
   "nbconvert_exporter": "python",
   "pygments_lexer": "ipython3",
   "version": "3.9.21"
  }
 },
 "nbformat": 4,
 "nbformat_minor": 5
}
