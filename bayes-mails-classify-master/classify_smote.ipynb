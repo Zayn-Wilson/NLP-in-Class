{
 "cells": [
  {
   "cell_type": "code",
   "execution_count": 12,
   "id": "4cd4ea84-28df-407c-982d-e88dacb4177b",
   "metadata": {},
   "outputs": [],
   "source": [
    "import re\n",
    "import os\n",
    "from jieba import cut\n",
    "from itertools import chain\n",
    "from collections import Counter\n",
    "import numpy as np\n",
    "from sklearn.naive_bayes import MultinomialNB\n",
    "from imblearn.over_sampling import SMOTE\n",
    "from sklearn.model_selection import train_test_split\n",
    "from sklearn.metrics import classification_report\n"
   ]
  },
  {
   "cell_type": "code",
   "execution_count": 11,
   "id": "ecf37616-d812-4d53-b867-361699a75258",
   "metadata": {},
   "outputs": [],
   "source": [
    "import warnings\n",
    "warnings.filterwarnings('ignore', category=FutureWarning)"
   ]
  },
  {
   "cell_type": "code",
   "execution_count": 3,
   "id": "6ea6e570-bc0d-4eb1-8c99-5f395ad7c230",
   "metadata": {},
   "outputs": [],
   "source": [
    "def get_words(filename):\n",
    "    \"\"\"读取文本并过滤无效字符和长度为1的词\"\"\"\n",
    "    words = []\n",
    "    with open(filename, 'r', encoding='utf-8') as fr:\n",
    "        for line in fr:\n",
    "            line = line.strip()\n",
    "            # 过滤无效字符\n",
    "            line = re.sub(r'[.【】0-9、——。，！~\\*]', '', line)\n",
    "            # 使用jieba.cut()方法对文本切词处理\n",
    "            line = cut(line)\n",
    "            # 过滤长度为1的词\n",
    "            line = filter(lambda word: len(word) > 1, line)\n",
    "            words.extend(line)\n",
    "    return words\n"
   ]
  },
  {
   "cell_type": "code",
   "execution_count": 4,
   "id": "afe8c552-cb1e-40c5-9fbc-20962b38286e",
   "metadata": {},
   "outputs": [],
   "source": [
    "\n",
    "def get_top_words(top_num):\n",
    "    \"\"\"遍历邮件建立词库后返回出现次数最多的词\"\"\"\n",
    "    filename_list = [r'邮件_files/{}.txt'.format(i) for i in range(151)]\n",
    "    all_words = []\n",
    "    # 遍历邮件建立词库\n",
    "    for filename in filename_list:\n",
    "        all_words.append(get_words(filename))\n",
    "    # itertools.chain()把all_words内的所有列表组合成一个列表\n",
    "    # collections.Counter()统计词个数\n",
    "    freq = Counter(chain(*all_words))\n",
    "    return [i[0] for i in freq.most_common(top_num)], all_words"
   ]
  },
  {
   "cell_type": "code",
   "execution_count": 5,
   "id": "ad3f68b9-be02-4242-800f-cd9744dddd33",
   "metadata": {},
   "outputs": [],
   "source": [
    "\n",
    "def build_feature_matrix(all_words, top_words):\n",
    "    \"\"\"构建特征矩阵\"\"\"\n",
    "    vector = []\n",
    "    for words in all_words:\n",
    "        word_map = list(map(lambda word: words.count(word), top_words))\n",
    "        vector.append(word_map)\n",
    "    return np.array(vector)"
   ]
  },
  {
   "cell_type": "code",
   "execution_count": 7,
   "id": "717b9e6b-ee24-47ff-81e6-40b5ec65ef95",
   "metadata": {},
   "outputs": [],
   "source": [
    "def main():\n",
    "    # 获取特征词和所有词\n",
    "    top_words, all_words = get_top_words(100)\n",
    "    \n",
    "    # 构建特征矩阵\n",
    "    X = build_feature_matrix(all_words, top_words)\n",
    "    \n",
    "    # 构建标签向量 (0-126.txt为垃圾邮件标记为1；127-151.txt为普通邮件标记为0)\n",
    "    y = np.array([1]*127 + [0]*24)\n",
    "    \n",
    "    # 划分训练集和测试集\n",
    "    X_train, X_test, y_train, y_test = train_test_split(X, y, test_size=0.2, random_state=42)\n",
    "    \n",
    "    # 使用SMOTE进行过采样\n",
    "    smote = SMOTE(random_state=42)\n",
    "    X_resampled, y_resampled = smote.fit_resample(X_train, y_train)\n",
    "    \n",
    "    # 训练模型\n",
    "    model = MultinomialNB()\n",
    "    model.fit(X_resampled, y_resampled)\n",
    "    \n",
    "    # 在测试集上评估模型\n",
    "    y_pred = model.predict(X_test)\n",
    "    print(\"\\n分类报告:\")\n",
    "    print(classification_report(y_test, y_pred))\n",
    "    \n",
    "    # 预测新样本\n",
    "    def predict(filename):\n",
    "        \"\"\"对未知邮件分类\"\"\"\n",
    "        words = get_words(filename)\n",
    "        current_vector = np.array(tuple(map(lambda word: words.count(word), top_words)))\n",
    "        result = model.predict(current_vector.reshape(1, -1))\n",
    "        return '垃圾邮件' if result == 1 else '普通邮件'\n",
    "    \n",
    "    # 测试预测\n",
    "    print(\"\\n测试样本预测结果:\")\n",
    "    test_files = ['邮件_files/151.txt', '邮件_files/152.txt', '邮件_files/153.txt', \n",
    "                 '邮件_files/154.txt', '邮件_files/155.txt']\n",
    "    for file in test_files:\n",
    "        print(f'{file}分类情况: {predict(file)}')"
   ]
  },
  {
   "cell_type": "code",
   "execution_count": 13,
   "id": "9576b787-2e70-41f5-8898-5698af7f6411",
   "metadata": {},
   "outputs": [
    {
     "name": "stdout",
     "output_type": "stream",
     "text": [
      "\n",
      "分类报告:\n",
      "              precision    recall  f1-score   support\n",
      "\n",
      "           0       0.75      1.00      0.86         6\n",
      "           1       1.00      0.92      0.96        25\n",
      "\n",
      "    accuracy                           0.94        31\n",
      "   macro avg       0.88      0.96      0.91        31\n",
      "weighted avg       0.95      0.94      0.94        31\n",
      "\n",
      "\n",
      "测试样本预测结果:\n",
      "邮件_files/151.txt分类情况: 普通邮件\n",
      "邮件_files/152.txt分类情况: 垃圾邮件\n",
      "邮件_files/153.txt分类情况: 普通邮件\n",
      "邮件_files/154.txt分类情况: 普通邮件\n",
      "邮件_files/155.txt分类情况: 普通邮件\n"
     ]
    }
   ],
   "source": [
    "\n",
    "if __name__ == \"__main__\":\n",
    "    main()"
   ]
  }
 ],
 "metadata": {
  "kernelspec": {
   "display_name": "Python 3 (ipykernel)",
   "language": "python",
   "name": "python3"
  },
  "language_info": {
   "codemirror_mode": {
    "name": "ipython",
    "version": 3
   },
   "file_extension": ".py",
   "mimetype": "text/x-python",
   "name": "python",
   "nbconvert_exporter": "python",
   "pygments_lexer": "ipython3",
   "version": "3.9.21"
  }
 },
 "nbformat": 4,
 "nbformat_minor": 5
}
