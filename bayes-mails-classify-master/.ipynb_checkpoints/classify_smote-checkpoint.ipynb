{
 "cells": [
  {
   "cell_type": "code",
   "execution_count": 2,
   "id": "4cd4ea84-28df-407c-982d-e88dacb4177b",
   "metadata": {},
   "outputs": [],
   "source": [
    "import re\n",
    "import os\n",
    "from jieba import cut\n",
    "from itertools import chain\n",
    "from collections import Counter\n",
    "import numpy as np\n",
    "from sklearn.naive_bayes import MultinomialNB\n",
    "from imblearn.over_sampling import SMOTE\n",
    "from sklearn.model_selection import train_test_split\n",
    "from sklearn.metrics import classification_report\n",
    "import warnings\n",
    "warnings.filterwarnings('ignore', category=FutureWarning)"
   ]
  },
  {
   "cell_type": "code",
   "execution_count": 3,
   "id": "6ea6e570-bc0d-4eb1-8c99-5f395ad7c230",
   "metadata": {},
   "outputs": [],
   "source": [
    "def get_words(filename):\n",
    "    \"\"\"读取文本并过滤无效字符和长度为1的词\"\"\"\n",
    "    words = []\n",
    "    with open(filename, 'r', encoding='utf-8') as fr:\n",
    "        for line in fr:\n",
    "            line = line.strip()\n",
    "            # 过滤无效字符\n",
    "            line = re.sub(r'[.【】0-9、——。，！~\\*]', '', line)\n",
    "            # 使用jieba.cut()方法对文本切词处理\n",
    "            line = cut(line)\n",
    "            # 过滤长度为1的词\n",
    "            line = filter(lambda word: len(word) > 1, line)\n",
    "            words.extend(line)\n",
    "    return words\n"
   ]
  },
  {
   "cell_type": "code",
   "execution_count": 4,
   "id": "afe8c552-cb1e-40c5-9fbc-20962b38286e",
   "metadata": {},
   "outputs": [],
   "source": [
    "# 第三个代码单元格\n",
    "def get_top_words(top_num):\n",
    "    \"\"\"遍历邮件建立词库后返回出现次数最多的词\"\"\"\n",
    "    filename_list = [r'邮件_files/{}.txt'.format(i) for i in range(151)]\n",
    "    all_words = []\n",
    "    # 遍历邮件建立词库\n",
    "    for filename in filename_list:\n",
    "        all_words.append(get_words(filename))\n",
    "    # itertools.chain()把all_words内的所有列表组合成一个列表\n",
    "    # collections.Counter()统计词个数\n",
    "    freq = Counter(chain(*all_words))\n",
    "    return [i[0] for i in freq.most_common(top_num)], all_words"
   ]
  },
  {
   "cell_type": "code",
   "execution_count": 5,
   "id": "ad3f68b9-be02-4242-800f-cd9744dddd33",
   "metadata": {},
   "outputs": [],
   "source": [
    "def get_top_words(top_num):\n",
    "    \"\"\"遍历邮件建立词库后返回出现次数最多的词\"\"\"\n",
    "    filename_list = [r'邮件_files/{}.txt'.format(i) for i in range(151)]\n",
    "    all_words = []\n",
    "    for filename in filename_list:\n",
    "        all_words.append(get_words(filename))\n",
    "    freq = Counter(chain(*all_words))\n",
    "    return [i[0] for i in freq.most_common(top_num)], all_words\n",
    "\n",
    "def build_feature_matrix(all_words, top_words):\n",
    "    \"\"\"构建特征矩阵\"\"\"\n",
    "    vector = []\n",
    "    for words in all_words:\n",
    "        word_map = list(map(lambda word: words.count(word), top_words))\n",
    "        vector.append(word_map)\n",
    "    return np.array(vector)\n"
   ]
  },
  {
   "cell_type": "code",
   "execution_count": 6,
   "id": "717b9e6b-ee24-47ff-81e6-40b5ec65ef95",
   "metadata": {},
   "outputs": [
    {
     "ename": "NameError",
     "evalue": "name 'model' is not defined",
     "output_type": "error",
     "traceback": [
      "\u001b[1;31m---------------------------------------------------------------------------\u001b[0m",
      "\u001b[1;31mNameError\u001b[0m                                 Traceback (most recent call last)",
      "Cell \u001b[1;32mIn[6], line 2\u001b[0m\n\u001b[0;32m      1\u001b[0m \u001b[38;5;66;03m# 在测试集上评估模型\u001b[39;00m\n\u001b[1;32m----> 2\u001b[0m y_pred \u001b[38;5;241m=\u001b[39m \u001b[43mmodel\u001b[49m\u001b[38;5;241m.\u001b[39mpredict(X_test)\n\u001b[0;32m      3\u001b[0m \u001b[38;5;28mprint\u001b[39m(\u001b[38;5;124m\"\u001b[39m\u001b[38;5;130;01m\\n\u001b[39;00m\u001b[38;5;124m分类报告:\u001b[39m\u001b[38;5;124m\"\u001b[39m)\n\u001b[0;32m      4\u001b[0m \u001b[38;5;28mprint\u001b[39m(classification_report(y_test, y_pred))\n",
      "\u001b[1;31mNameError\u001b[0m: name 'model' is not defined"
     ]
    }
   ],
   "source": [
    "# 在测试集上评估模型\n",
    "y_pred = model.predict(X_test)\n",
    "print(\"\\n分类报告:\")\n",
    "print(classification_report(y_test, y_pred))\n",
    "\n",
    "def predict(filename):\n",
    "    \"\"\"对未知邮件分类\"\"\"\n",
    "    words = get_words(filename)\n",
    "    current_vector = np.array(tuple(map(lambda word: words.count(word), top_words)))\n",
    "    result = model.predict(current_vector.reshape(1, -1))\n",
    "    return '垃圾邮件' if result == 1 else '普通邮件'\n",
    "\n",
    "# 测试预测\n",
    "test_files = ['邮件_files/151.txt', '邮件_files/152.txt', '邮件_files/153.txt', \n",
    "             '邮件_files/154.txt', '邮件_files/155.txt']\n",
    "for file in test_files:\n",
    "    print(f'{file}分类情况: {predict(file)}')\n"
   ]
  },
  {
   "cell_type": "code",
   "execution_count": null,
   "id": "9576b787-2e70-41f5-8898-5698af7f6411",
   "metadata": {},
   "outputs": [],
   "source": []
  }
 ],
 "metadata": {
  "kernelspec": {
   "display_name": "Python 3 (ipykernel)",
   "language": "python",
   "name": "python3"
  },
  "language_info": {
   "codemirror_mode": {
    "name": "ipython",
    "version": 3
   },
   "file_extension": ".py",
   "mimetype": "text/x-python",
   "name": "python",
   "nbconvert_exporter": "python",
   "pygments_lexer": "ipython3",
   "version": "3.9.21"
  }
 },
 "nbformat": 4,
 "nbformat_minor": 5
}
